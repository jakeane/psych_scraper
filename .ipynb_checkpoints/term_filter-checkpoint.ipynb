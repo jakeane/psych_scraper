{
 "cells": [
  {
   "cell_type": "code",
   "execution_count": 19,
   "metadata": {},
   "outputs": [],
   "source": [
    "import pandas as pd\n",
    "from nltk import data as nltkdata\n",
    "\n",
    "terms_csv = pd.read_csv(\"./terms_nofilter.csv\", index_col=None)\n",
    "terms_csv = terms_csv.iloc[:,1:].dropna()\n"
   ]
  },
  {
   "cell_type": "code",
   "execution_count": 26,
   "metadata": {},
   "outputs": [
    {
     "data": {
      "text/plain": [
       "\"Symptoms: Amnesia; Dementia Diseases or conditions caused: Dementia Alzheimer's disease Also called: senile dementia Source A progressive disease that destroys memory and other important mental functions. Brain cell connections and the cells themselves degenerate and die, eventually destroying memory and other important mental functions. Memory loss and confusion are the main symptoms. No cure exists, but medications and management strategies may temporarily improve symptoms. Very common More than 3 million US cases per year Treatment can help, but this condition can't be cured Requires a medical diagnosis Lab tests or imaging not required Chronic: can last for years or be lifelong For informational purposes only. Consult your local medical authority for advice.\\nSources: Mayo Clinic and others. Learn more RELATED CONDITIONS Dementia A group of thinking and social symptoms that interferes with daily functioning. Psychosis A mental disorder characterized by a disconnection from reality. Parkinson's disease A disorder of the central nervous system that affects movement, often including tremors. Clinical depression A mental health disorder characterized by persistently depressed mood or loss of interest in activities, causing significant impairment in daily life. Insomnia Persistent problems falling and staying asleep. \""
      ]
     },
     "execution_count": 26,
     "metadata": {},
     "output_type": "execute_result"
    }
   ],
   "source": [
    "terms_csv['result'].iloc[0]"
   ]
  },
  {
   "cell_type": "code",
   "execution_count": 27,
   "metadata": {},
   "outputs": [
    {
     "ename": "SyntaxError",
     "evalue": "invalid syntax (<ipython-input-27-c139bff9670f>, line 3)",
     "output_type": "error",
     "traceback": [
      "\u001b[0;36m  File \u001b[0;32m\"<ipython-input-27-c139bff9670f>\"\u001b[0;36m, line \u001b[0;32m3\u001b[0m\n\u001b[0;31m    print '\\n-----\\n'.join(tokenizer.tokenize(text))\u001b[0m\n\u001b[0m          ^\u001b[0m\n\u001b[0;31mSyntaxError\u001b[0m\u001b[0;31m:\u001b[0m invalid syntax\n"
     ]
    }
   ],
   "source": [
    "def clean_results(text):\n",
    "    tokenizer = nltkdata.load('tokenizers/punkt/english.pickle')\n",
    "    print('\\n-----\\n'.join(tokenizer.tokenize(text)))\n",
    "    \n",
    "clean_results(terms_csv['result'].iloc[0])"
   ]
  },
  {
   "cell_type": "code",
   "execution_count": null,
   "metadata": {},
   "outputs": [],
   "source": []
  }
 ],
 "metadata": {
  "kernelspec": {
   "display_name": "Python 3",
   "language": "python",
   "name": "python3"
  },
  "language_info": {
   "codemirror_mode": {
    "name": "ipython",
    "version": 3
   },
   "file_extension": ".py",
   "mimetype": "text/x-python",
   "name": "python",
   "nbconvert_exporter": "python",
   "pygments_lexer": "ipython3",
   "version": "3.8.3"
  }
 },
 "nbformat": 4,
 "nbformat_minor": 4
}
